{
 "cells": [
  {
   "cell_type": "markdown",
   "metadata": {},
   "source": [
    "## Car Price Prediction\n",
    "a machine learning model that accurately predicts the price of a car based on various features such as make, model, year, mileage, condition, and more.\n",
    "\n",
    "dataset: https://www.kaggle.com/datasets/deepcontractor/car-price-prediction-challenge"
   ]
  },
  {
   "cell_type": "markdown",
   "metadata": {},
   "source": []
  }
 ],
 "metadata": {
  "language_info": {
   "name": "python"
  }
 },
 "nbformat": 4,
 "nbformat_minor": 2
}
